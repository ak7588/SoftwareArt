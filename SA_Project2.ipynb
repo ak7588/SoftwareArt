{
  "nbformat": 4,
  "nbformat_minor": 0,
  "metadata": {
    "colab": {
      "name": "SA_Project2.ipynb",
      "provenance": [],
      "authorship_tag": "ABX9TyMA6EcrboyP6ptRFv784yK8",
      "include_colab_link": true
    },
    "kernelspec": {
      "name": "python3",
      "display_name": "Python 3"
    }
  },
  "cells": [
    {
      "cell_type": "markdown",
      "metadata": {
        "id": "view-in-github",
        "colab_type": "text"
      },
      "source": [
        "<a href=\"https://colab.research.google.com/github/ak7588/SoftwareArt/blob/main/SA_Project2.ipynb\" target=\"_parent\"><img src=\"https://colab.research.google.com/assets/colab-badge.svg\" alt=\"Open In Colab\"/></a>"
      ]
    },
    {
      "cell_type": "markdown",
      "metadata": {
        "id": "JyoLXbLv9zN2"
      },
      "source": [
        "## Process...\n",
        "\n",
        "Training 1:\n",
        "\n",
        "**Input Question:** Can I go to work tomorrow?\n",
        "\n",
        "---\n",
        "\n",
        "**GPT-2 Output 1:** The answer is yes. If you're lucky enough to have a job that provides you with the opportunity to spend time with your family. If you can't afford a home or can't find a suitable partner, then you should probably consider taking on a new job. If it's a good one then I will not hesitate to recommend it. But if it's a bad one, then I will be out of work for a while.\n",
        "Also, it is important to realise that there are still some jobs that a person should not be considering. Maybe you should look for a job where you are paid a certain amount, but you are not asked to do anything outside your job. Perhaps you should consider a job that is not quite as good as a good one and is only a part-time job.\n",
        "\n",
        "But it is important to realise that there is still a lot of work to do in life. Plus, we have to realise that we are not going to live forever. We are going to die. People have been asked this question all of their lives and have always been disappointed. I have finally felt the consequences of my life. I have made a decision to stop living. I have decided to stop living. I am no longer happy.\n",
        "\n",
        "---\n",
        "\n",
        "**GPT-2 Output 2:** Yes, you can.\n",
        "\n",
        "What are the benefits of working for free?\n",
        "\n",
        "\n",
        "I've seen people who couldn't pay their bills for weeks and went into debt. The reason? They wanted to be free. They wanted to make something of themselves. They wanted to make themselves happy.\n",
        "I think they can do that. If I have a choice I'd rather be free.\n",
        "Are there any problems with working for free?\n",
        "\n",
        "No problems. I don't think there is.\n",
        "Is it possible to work for free?\n",
        "\n",
        "Yes, but there are a number of things that you would have to do. In the beginning there is no time to waste. You have to do something. It is not easy and you don't want to go back to work for a weekend. I think you have to work for something. You can't just sit down and do it. You have to work.\n",
        "Why do I choose this?\n",
        "\n",
        "I think it is a good way to start. It is not a bad way to work. It is a good way to learn a skill. You might think that it is a bad way to learn a skill but it is not. It is a better way to learn a skill.\n",
        "\n",
        "--- \n",
        "\n",
        "**GPT-2 Output 3:**  If I ever had the chance I would definitely do it. I have since I got on in my career.\n",
        "\n",
        "\n",
        "I want to be an architect, but I am not sure if I really want to. I am an artist and I want to be an architect, but I am not sure if I really want to. \n",
        "\n",
        "--- \n",
        "\n",
        "**Input Question:** Does she really love me?\n",
        "\n",
        "**GPT-2 Output 1:** Yes, she does. She's so brainy. It's scary, because if she sees a huge gap between us, she'll probably take the first impulse to leap over it. She'll probably say 'I really like you so much! I want to do the same!', and I'll think 'Why?'"
      ]
    },
    {
      "cell_type": "code",
      "metadata": {
        "colab": {
          "resources": {
            "http://localhost:8080/nbextensions/google.colab/files.js": {
              "data": "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",
              "ok": true,
              "headers": [
                [
                  "content-type",
                  "application/javascript"
                ]
              ],
              "status": 200,
              "status_text": ""
            }
          },
          "base_uri": "https://localhost:8080/",
          "height": 1000
        },
        "id": "y6wadcP6rxBO",
        "outputId": "00b0d57a-0edd-4f2e-ed75-9dda6f0c2f22"
      },
      "source": [
        "%tensorflow_version 1.x\n",
        "!pip install -q gpt-2-simple\n",
        "\n",
        "import gpt_2_simple as gpt2\n",
        "import tensorflow as tf\n",
        "from datetime import datetime\n",
        "from google.colab import files\n",
        "\n",
        "gpt2.download_gpt2(model_name=\"355M\")\n",
        "\n",
        "run_name = \"gpt_uploaded\"\n",
        "\n",
        "from google.colab import files\n",
        "\n",
        "uploaded = files.upload()\n",
        "\n",
        "file_name = list(uploaded.keys())[0]\n",
        "print(\"Received file \" + file_name)\n",
        "\n",
        "tf.reset_default_graph() # Reseting allows us to finetune multiple times\n",
        "                         # Run this cell again for more finetuning\n",
        "\n",
        "sess = gpt2.start_tf_sess()\n",
        "\n",
        "steps = 5 # Number of times to train\n",
        "sample_every = 1 # Ask the model to generate \"original\" text as we train so we can\n",
        "                  # see the progress - the generated text should start to match\n",
        "                  # our sample text.\n",
        "sample_length = 5 # How long of sample text to generate\n",
        "\n",
        "gpt2.finetune(sess,\n",
        "              dataset=file_name,\n",
        "              model_name='355M',\n",
        "              checkpoint_dir = 'checkpoint',\n",
        "              steps=steps,\n",
        "              run_name=run_name,\n",
        "              print_every=1,\n",
        "              sample_every=sample_every, \n",
        "              sample_length=sample_length,\n",
        "              )\n",
        "\n",
        "gpt2.generate(sess,\n",
        "              run_name=run_name,\n",
        "              length=250,\n",
        "              temperature=0.7,\n",
        "              prefix=\"\"\"\n",
        "\n",
        "Will 2021 NYU Commencement be in-person?\n",
        "\n",
        "\"\"\",\n",
        "              nsamples=5,\n",
        "              batch_size=5\n",
        "              )"
      ],
      "execution_count": 5,
      "outputs": [
        {
          "output_type": "stream",
          "text": [
            "Fetching checkpoint: 1.05Mit [00:00, 326Mit/s]                                                      \n",
            "Fetching encoder.json: 1.05Mit [00:00, 81.6Mit/s]                                                   \n",
            "Fetching hparams.json: 1.05Mit [00:00, 233Mit/s]                                                    \n",
            "Fetching model.ckpt.data-00000-of-00001: 1.42Git [00:06, 226Mit/s]                                  \n",
            "Fetching model.ckpt.index: 1.05Mit [00:00, 215Mit/s]                                                \n",
            "Fetching model.ckpt.meta: 1.05Mit [00:00, 82.2Mit/s]                                                \n",
            "Fetching vocab.bpe: 1.05Mit [00:00, 101Mit/s]                                                       \n"
          ],
          "name": "stderr"
        },
        {
          "output_type": "display_data",
          "data": {
            "text/html": [
              "\n",
              "     <input type=\"file\" id=\"files-44b38e1f-692d-4935-b422-06bfe29d5ee5\" name=\"files[]\" multiple disabled\n",
              "        style=\"border:none\" />\n",
              "     <output id=\"result-44b38e1f-692d-4935-b422-06bfe29d5ee5\">\n",
              "      Upload widget is only available when the cell has been executed in the\n",
              "      current browser session. Please rerun this cell to enable.\n",
              "      </output>\n",
              "      <script src=\"/nbextensions/google.colab/files.js\"></script> "
            ],
            "text/plain": [
              "<IPython.core.display.HTML object>"
            ]
          },
          "metadata": {
            "tags": []
          }
        },
        {
          "output_type": "stream",
          "text": [
            "Saving data.rtf to data (4).rtf\n",
            "Received file data.rtf\n",
            "Loading checkpoint checkpoint/gpt_uploaded/model-30\n",
            "INFO:tensorflow:Restoring parameters from checkpoint/gpt_uploaded/model-30\n"
          ],
          "name": "stdout"
        },
        {
          "output_type": "stream",
          "text": [
            "100%|██████████| 1/1 [00:00<00:00,  5.68it/s]"
          ],
          "name": "stderr"
        },
        {
          "output_type": "stream",
          "text": [
            "Loading dataset...\n",
            "dataset has 20575 tokens\n",
            "Training...\n"
          ],
          "name": "stdout"
        },
        {
          "output_type": "stream",
          "text": [
            "\n"
          ],
          "name": "stderr"
        },
        {
          "output_type": "stream",
          "text": [
            "======== SAMPLE 1 ========\n",
            "my \\a0{\\field\n",
            "\n",
            "[31 | 80.92] loss=1.17 avg=1.17\n",
            "======== SAMPLE 1 ========\n",
            " their books were 'too good\n",
            "\n",
            "[32 | 143.61] loss=1.87 avg=1.52\n",
            "======== SAMPLE 1 ========\n",
            " to \"make it right\"\n",
            "\n",
            "[33 | 205.86] loss=1.39 avg=1.48\n",
            "======== SAMPLE 1 ========\n",
            " When I go fishing, I\n",
            "\n",
            "[34 | 267.35] loss=1.72 avg=1.54\n",
            "======== SAMPLE 1 ========\n",
            "\\^\\b0\\\n",
            "\n",
            "[35 | 329.43] loss=1.27 avg=1.48\n",
            "Saving checkpoint/gpt_uploaded/model-35\n",
            "Will 2021 NYU Commencement be in-person?\n",
            "\n",
            "\n",
            "I don't know, that's what I'm afraid to ask. But college seems to be the only thing that matters, so it seems fitting.\n",
            "\n",
            "\n",
            "What are some of the things you wish you knew in order to be a better person?\n",
            "\n",
            "I wish I knew how to live and be happy. I wish I knew how to be kind. I wish I knew how to love. I wish I knew how to be compassionate. I wish I knew how to be humble. I wish I knew how to be patient. I wish I knew how to be loyal.\n",
            "\n",
            "I wish I knew how to be empathetic. I wish I knew how to understand pain. I wish I knew how to forgive. I wish I knew how to create art that makes me feel. I wish I knew how to be successful. I wish I knew how to be optimistic. I wish I knew how to be kind to myself and others. I wish I knew how to be creative. I wish I knew how to keep going. I wish I knew how to be compassionate. I wish I knew how to be patient. I wish I knew how to be loyal. I wish I knew how to be generous.\n",
            "\n",
            "I wish I knew how to\n",
            "====================\n",
            "Will 2021 NYU Commencement be in-person?\n",
            "\n",
            "\n",
            "Yes. NYU will host a one-on-one interview for the students. The students will be asked to come up with a short statement and the professor will give a speech. In person, the students will talk to the professor about a given issue and the professor will answer their questions. The students will then take a picture with the professor and share the picture on social media. The students will then write a book describing the experience on their blog and write a review.\n",
            "Will the students be able to identify the professor?\n",
            "\n",
            "\n",
            "The students will have to identify the professor to figure out his or her qualifications. The students will meet the professor at least once. If the students are frustrated by the professor's responses (e.g. \"Sorry, I am not your typical professor\"), then they should not be going to talk to him or her.\n",
            "\n",
            "\n",
            "How can I get involved?\n",
            "\n",
            "\n",
            "Let's say you are an aspiring actor and you want to learn how to act. Right now, acting is a hobby for many people and you can learn a lot from people who are not actors. However, students are learning how to act in a formal setting. Do you want to learn to be a lawyer? Do you want to learn\n",
            "====================\n",
            "Will 2021 NYU Commencement be in-person?\n",
            "\n",
            "\n",
            "I would not hesitate to attend a campus event in person. I would be able to interact with faculty and other students in person.\n",
            "\n",
            "\n",
            "What is my favorite part about studying at NYU?\n",
            "\n",
            "\n",
            "As a student, my favorite part about studying at NYU is the affordability. The school provides a wide range of programs that make up most of the budget. Students at NYU are not forced to pay for any major because they can choose from a broad range of programs and still be successful.\n",
            "\n",
            "\n",
            "Do any of my professors really care about my work?\n",
            "\n",
            "\n",
            "No. Most professors do not care about my work except in the most mild of ways. Although my professor is usually very kind and helpful, I have always had the feeling that he does not really care about me. My professor does not even want to ask me to teach a class. I don't know the rest of my professors, but I can guess that most do not even see me as a student. If a professor doesn't want to teach a class because I don't read his papers, then the professor is not really relevant to the class. I have to admire my professors and how they are able to maintain a grudging respect for themselves even when they are not really giving\n",
            "====================\n",
            "Will 2021 NYU Commencement be in-person?\n",
            "\n",
            "\n",
            "As a student, I am committed to having an in-person graduation ceremony. I would love to be able to have a ceremony in person with my classmates. As I have mentioned before, I want to have a graduation ceremony that will create an atmosphere of community and prepare us for life. I want to be able to share a meal with people, have a discussion with them about things I have seen or read, make small talk with them about my interests, and have a few drinks with them. I want to be able to feel happy, to laugh, to cry, to have fun.\n",
            "\n",
            "\n",
            "Some people say that in-person is best for graduation. I would say that in-person is a great way to show to people that you are proud of the things that you have learned and that you are driven by passion. I am not saying that in-person is better, but rather that in-person is a good way to show that you are passionate about something.\n",
            "\n",
            "\n",
            "Do I really like my graduation ceremony?\n",
            "\n",
            "\n",
            "The moment I close my eyes and accept that my ceremony is over, I feel sad. I have been lucky enough to have great friends, a family, and a job, but my ceremony has not\n",
            "====================\n",
            "Will 2021 NYU Commencement be in-person?\n",
            "\n",
            "\n",
            "No.\n",
            "\n",
            "\n",
            "Will I be able to see you for the last time?\n",
            "\n",
            "\n",
            "I will not be able to see you for the last time. But I will be able to talk about your work with some people.\n",
            "\n",
            "\n",
            "Will you be part of the NYU Commencement Committee?\n",
            "\n",
            "\n",
            "Yes.\n",
            "\n",
            "\n",
            "Will you be on my Commencement Panel?\n",
            "\n",
            "\n",
            "Yes.\n",
            "\n",
            "\n",
            "What is the most exciting thing about being part of the NYU Commencement Committee?\n",
            "\n",
            "\n",
            "I am really excited to be part of a group of people who understand the intersection between technology and culture. They are not afraid to say what's on their minds and to make us look at the world from a different perspective.\n",
            "\n",
            "\n",
            "What are some of the things that are unique about the NYU Commencement Committee?\n",
            "\n",
            "\n",
            "It is a group of people who understand the intersection between technology and culture. We do not want to be too cute. We are not afraid to say what is on our minds and to make us look at the world from a different perspective. We want to be on the same page.\n",
            "\n",
            "\n",
            "How can I be involved in a group that does not force us all to look at the same things from different perspectives?\n",
            "====================\n"
          ],
          "name": "stdout"
        }
      ]
    }
  ]
}