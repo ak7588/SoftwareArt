{
  "nbformat": 4,
  "nbformat_minor": 0,
  "metadata": {
    "colab": {
      "name": "SoftwareArt_week2_Scraping.ipynb",
      "provenance": [],
      "authorship_tag": "ABX9TyM6oj/5zmVpIylR6SwkTNvr",
      "include_colab_link": true
    },
    "kernelspec": {
      "name": "python3",
      "display_name": "Python 3"
    }
  },
  "cells": [
    {
      "cell_type": "markdown",
      "metadata": {
        "id": "view-in-github",
        "colab_type": "text"
      },
      "source": [
        "<a href=\"https://colab.research.google.com/github/ak7588/SoftwareArt/blob/main/SoftwareArt_week2_Scraping.ipynb\" target=\"_parent\"><img src=\"https://colab.research.google.com/assets/colab-badge.svg\" alt=\"Open In Colab\"/></a>"
      ]
    },
    {
      "cell_type": "code",
      "metadata": {
        "colab": {
          "base_uri": "https://localhost:8080/"
        },
        "id": "hOcQU_J2myLM",
        "outputId": "db6635fe-9c69-4495-8c75-b9a21b65cd07"
      },
      "source": [
        "# Example 1\n",
        "\n",
        "import requests\n",
        "target_url = 'https://www.gutenberg.org/files/2638/2638-0.txt'\n",
        "req = requests.get(target_url)\n",
        "print (\"getting url: %s\" % target_url)\n",
        "if req.status_code == 200:\n",
        "    print (\"got result!\")\n",
        "    print(\"\\n\")\n",
        "    first_character = 4000\n",
        "    characters_to_print = 1000\n",
        "    print(req.text[first_character:first_character + characters_to_print])\n",
        "else:\n",
        "    print (\"something went wrong, response code %i\") % req.status_code"
      ],
      "execution_count": null,
      "outputs": [
        {
          "output_type": "stream",
          "text": [
            "getting url: https://www.gutenberg.org/files/2638/2638-0.txt\n",
            "got result!\n",
            "\n",
            "\n",
            "hoes and gaiters, his whole appearance being very\r\n",
            "un-Russian.\r\n",
            "\r\n",
            "His black-haired neighbour inspected these peculiarities, having nothing\r\n",
            "better to do, and at length remarked, with that rude enjoyment of the\r\n",
            "discomforts of others which the common classes so often show:\r\n",
            "\r\n",
            "âCold?â\r\n",
            "\r\n",
            "âVery,â said his neighbour, readily, âand this is a thaw, too. Fancy if\r\n",
            "it had been a hard frost! I never thought it would be so cold in the old\r\n",
            "country. Iâve grown quite out of the way of it.â\r\n",
            "\r\n",
            "âWhat, been abroad, I suppose?â\r\n",
            "\r\n",
            "âYes, straight from Switzerland.â\r\n",
            "\r\n",
            "âWheugh! my goodness!â The black-haired young fellow whistled, and then\r\n",
            "laughed.\r\n",
            "\r\n",
            "The conversation proceeded. The readiness of the fair-haired young\r\n",
            "man in the cloak to answer all his opposite neighbourâs questions\r\n",
            "was surprising. He seemed to have no suspicion of any impertinence\r\n",
            "or inappropriateness in the fact of such questions being put to him.\r\n",
            "Replying to them, he made known to the inquirer that he \n"
          ],
          "name": "stdout"
        }
      ]
    },
    {
      "cell_type": "code",
      "metadata": {
        "colab": {
          "base_uri": "https://localhost:8080/"
        },
        "id": "9ttRe1a0oq8s",
        "outputId": "821137d1-7446-4304-c95f-1bbd281d206f"
      },
      "source": [
        "# Example 2\n",
        "\n",
        "import requests\n",
        "from bs4 import BeautifulSoup\n",
        "\n",
        "target_url = 'https://lyricstranslate.com/en/taboo-taboo.html-4'\n",
        "\n",
        "req = requests.get(target_url)\n",
        "\n",
        "# Checking for opening errors\n",
        "\n",
        "if req.status_code == 200:\n",
        "    print(\"got result!\")\n",
        "else:\n",
        "    print(\"something went wrong, response code %i\" % req.status_code)\n",
        "\n",
        "# Parsing\n",
        "\n",
        "soup = BeautifulSoup(req.content, 'html.parser')\n",
        "title = soup.find('title')\n",
        "print(title.text)\n",
        "\n",
        "lyrics = soup.find_all('div', class_ = 'par')\n",
        "\n",
        "print(\"Found %d things\" % len(lyrics))\n",
        "\n",
        "# Lyrics\n",
        "print(lyrics[0].text)"
      ],
      "execution_count": null,
      "outputs": [
        {
          "output_type": "stream",
          "text": [
            "got result!\n",
            "Ninety One - Taboo lyrics + English translation\n",
            "Found 17 things\n",
            "Мен ләйлим ол өз ойым, баяндайм ала көзіңді ойып\n",
            "Жай қияли көп сөз ойыны тек тивиден үй-үйге ми күйітіп мөр қойылды\n",
            "Шоу-биз жанары дуалайтын жыландай\n",
            "Тиын істесем болды, тек терлемесін маңдай sunday мен mondey\n",
            "Бір ақ затты пайымдайм, түсініп жатыр жай-жай\n",
            "Ережесіз ақындық — керек емес төреші\n",
            "Ары-бері жүрістермен ашып келдік көп есік\n",
            "Жинап қайрат, нұр тастайм бәріне\n",
            "Ер бар айдар бізде басқаның әнімен\n",
            "Өтірік ақылмен жемең, (ей!)\n",
            "Өмір кілегей, 2020 түбегейлі түсіндірді ме деймін(ей!)\n",
            "Қыдырып әлі болмадық, шоу-биз тым тар\n",
            "Мың қырық әріп қолда бар, іздеп мән тап\n",
            "Үйге нұр түспесе бәлкім тоққа айыппұл берілген (щип, қара!)\n"
          ],
          "name": "stdout"
        }
      ]
    }
  ]
}