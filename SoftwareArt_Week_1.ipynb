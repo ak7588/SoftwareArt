{
  "nbformat": 4,
  "nbformat_minor": 0,
  "metadata": {
    "colab": {
      "name": "SoftwareArt_Week_1.ipynb",
      "provenance": [],
      "collapsed_sections": [],
      "authorship_tag": "ABX9TyO5dqWeosjpa05wzJKhagGq",
      "include_colab_link": true
    },
    "kernelspec": {
      "name": "python3",
      "display_name": "Python 3"
    }
  },
  "cells": [
    {
      "cell_type": "markdown",
      "metadata": {
        "id": "view-in-github",
        "colab_type": "text"
      },
      "source": [
        "<a href=\"https://colab.research.google.com/github/ak7588/SoftwareArt/blob/main/SoftwareArt_Week_1.ipynb\" target=\"_parent\"><img src=\"https://colab.research.google.com/assets/colab-badge.svg\" alt=\"Open In Colab\"/></a>"
      ]
    },
    {
      "cell_type": "markdown",
      "metadata": {
        "id": "7F_LcvMkLwWU"
      },
      "source": [
        "# 🖌 **Software Art | Week 1 | Amina**"
      ]
    },
    {
      "cell_type": "markdown",
      "metadata": {
        "id": "GEnO_65oIWMZ"
      },
      "source": [
        "## **HOW THE SENTENCES ARE GENERATED?**\n",
        "\n",
        "Essentially, I have used two types of `loop-algorithms` for generating my text -- a `while` loop in the first text generator and a nested `for` loop in the second generator of 5 text paragraphs. \n",
        "\n",
        "A primary method for randomizing the text was the `random.choice` fromt the `random` library. In the second example, I have added a few word-lists to indicate the *introduction* as well as a few word-lists to indicate the *conclusion* of each paragraph. To make my text \"unique\", I have also added a few words in Kazakh (names of artists and musical instruments) and Russian (\n",
        "interjections). With the help of some loops, I got the final 5-paragraph text that you can see below."
      ]
    },
    {
      "cell_type": "markdown",
      "metadata": {
        "id": "SlDgsmq2MJWi"
      },
      "source": [
        "---"
      ]
    },
    {
      "cell_type": "code",
      "metadata": {
        "colab": {
          "base_uri": "https://localhost:8080/"
        },
        "id": "atjYGG1Gu8ai",
        "outputId": "278dd197-2108-4c1d-f55e-e07884c4bb82"
      },
      "source": [
        "# import libraries\n",
        "import random\n",
        "\n",
        "# main text source\n",
        "nouns = ['I', 'He', 'She', 'Someone', 'Mom', 'They', 'Dad', 'Kurmangazy']\n",
        "verbs = ['said that', 'mentioned that', 'outlined that']\n",
        "pronouns = ['my', 'her', 'his', 'their']\n",
        "qazWords = ['dombyra', 'jetigen', 'kobyz', 'sherter'] # these are Kazakh musical instruments\n",
        "moreVerbs = ['is', 'is not', 'plays', 'sounds', 'mimicks', 'whispers']\n",
        "adjectives = ['musical', 'beautiful', 'magical', 'charming', 'amazing', 'horrible']\n",
        "otherWords = ['да', 'вот чёрт', 'my love', 'нет']\n",
        "endSentence = ['. ', '... ', '! ', '? ', '-- ']\n",
        "\n",
        "# implementing 5 random senteces\n",
        "i = 0\n",
        "while i < 5:\n",
        "  sentence = random.choice(nouns) + \" \" + random.choice(verbs) + \" \" + random.choice(pronouns) + \" \" + random.choice(qazWords) + \" \" + random.choice(moreVerbs) + \" \" + random.choice(adjectives) + \", \" + random.choice(otherWords) + random.choice(endSentence)\n",
        "  print(sentence, end='')\n",
        "  i+=1\n",
        "\n"
      ],
      "execution_count": 20,
      "outputs": [
        {
          "output_type": "stream",
          "text": [
            "Kurmangazy said that my sherter mimicks magical, вот чёрт-- Kurmangazy mentioned that my dombyra is amazing, вот чёрт... Mom mentioned that my sherter is horrible, вот чёрт-- He outlined that their kobyz sounds magical, вот чёрт! Mom outlined that her jetigen plays amazing, нет-- "
          ],
          "name": "stdout"
        }
      ]
    },
    {
      "cell_type": "markdown",
      "metadata": {
        "id": "AE2qJCXqCG95"
      },
      "source": [
        "**First attempt to generate text:**\n",
        "\n",
        "  Someone mentioned that their kobyz plays musical, вот чёрт... \n",
        "  They outlined that her sherter is beautiful, my love-- \n",
        "  Mom said that his kobyz is not musical, да-- \n",
        "  Someone outlined that her dombyra is not horrible, вот чёрт. \n",
        "  She outlined that her sherter whispers magical, да. "
      ]
    },
    {
      "cell_type": "code",
      "metadata": {
        "colab": {
          "base_uri": "https://localhost:8080/"
        },
        "id": "Dr7_eGa2CwxS",
        "outputId": "9376fcd4-2d29-454f-fb68-c78540f70dd1"
      },
      "source": [
        "# import libraries\n",
        "import random\n",
        "\n",
        "# main text source\n",
        "introduction = ['Let us start by ', 'First of all, ', 'I would to like to introduce this ', 'Now, ', 'It goes without saying that ']\n",
        "topicSubject = ['Kazakh music', 'ordering details', 'this is', 'Mars candy bar', 'NYU Abu Dhabi', 'Elizabeth Harmon']\n",
        "verb = ['is wonderful', '...wait, this is clearly wrong ', 'was produced in Outer Space']\n",
        "ending = ['! ', '. ', '??? ', '?! ', '...', '. ']\n",
        "nouns = ['I', 'He', 'She', 'Someone', 'Mom', 'They', 'Dad', 'Kurmangazy']\n",
        "verbs = ['said that', 'mentioned that', 'outlined that']\n",
        "pronouns = ['my', 'her', 'his', 'their']\n",
        "qazWords = ['dombyra', 'jetigen', 'kobyz', 'sherter'] # these are Kazakh musical instruments\n",
        "moreVerbs = ['is', 'is not', 'plays', 'sounds', 'mimicks', 'whispers']\n",
        "adjectives = ['musical', 'beautiful', 'magical', 'charming', 'amazing', 'horrible']\n",
        "otherWords = ['да', 'вот чёрт', 'my love', 'нет']\n",
        "endSentence = ['. ', '... ', '! ', '? ', '-- ']\n",
        "conclusion = ['This is how', 'Now you see that', 'To sum up, ', 'By the way of conclusion, ']\n",
        "\n",
        "\n",
        "# implementing 5 random paragraphs\n",
        "for i in range(5):\n",
        "  introSentence = random.choice(introduction) + random.choice(topicSubject) + \" \" + random.choice(verb) + \" \" + random.choice(ending)\n",
        "  print(introSentence, end = '')\n",
        "  for i in range(3):\n",
        "    bodySentence1 = random.choice(nouns) + \" \" + random.choice(verbs) + \" \" + random.choice(pronouns) + \" \" + random.choice(qazWords) + \" \" + random.choice(moreVerbs) + \" \" + random.choice(adjectives) + \", \" + random.choice(otherWords) + random.choice(endSentence)\n",
        "    print(bodySentence1, end = '')\n",
        "  for i in range(5):\n",
        "    bodySentence2 = random.choice(topicSubject) + \" \" + random.choice(verbs) + \" \" + random.choice(pronouns) + \" \" + random.choice(qazWords) + \" \" + random.choice(moreVerbs) + \" \" + random.choice(adjectives) + \", \" + random.choice(otherWords) + random.choice(endSentence)\n",
        "    print(bodySentence2, end = '')\n",
        "  conclusionSentence = random.choice(conclusion) + random.choice(topicSubject) + \" \" + random.choice(verb) + \" \" + random.choice(ending)\n",
        "  print(conclusionSentence, end = '')\n",
        "  print(end='\\n\\n')\n",
        "  \n"
      ],
      "execution_count": 19,
      "outputs": [
        {
          "output_type": "stream",
          "text": [
            "I would to like to introduce this this is was produced in Outer Space . Dad mentioned that his dombyra whispers horrible, вот чёрт-- Mom outlined that her kobyz mimicks horrible, my love. She outlined that their sherter is not magical, нет! Kazakh music mentioned that his jetigen sounds horrible, да... Elizabeth Harmon outlined that her jetigen is not magical, да? NYU Abu Dhabi mentioned that their dombyra mimicks amazing, да... NYU Abu Dhabi outlined that my jetigen mimicks horrible, да... this is outlined that his sherter is magical, вот чёрт! This is howthis is was produced in Outer Space ?! \n",
            "\n",
            "It goes without saying that Mars candy bar is wonderful . She outlined that my jetigen whispers amazing, вот чёрт? Dad outlined that their kobyz whispers horrible, вот чёрт? Dad said that their dombyra is horrible, да-- Mars candy bar said that her sherter mimicks magical, нет-- this is mentioned that his jetigen sounds musical, нет-- Kazakh music mentioned that their kobyz is magical, да. Mars candy bar mentioned that my kobyz whispers beautiful, вот чёрт... Kazakh music mentioned that her sherter plays musical, вот чёрт... By the way of conclusion, Kazakh music ...wait, this is clearly wrong  ...\n",
            "\n",
            "First of all, Kazakh music was produced in Outer Space . Mom said that my kobyz whispers magical, нет... Mom mentioned that his dombyra mimicks charming, my love? He said that her dombyra plays horrible, да? NYU Abu Dhabi mentioned that his jetigen plays horrible, вот чёрт! this is mentioned that their kobyz is horrible, my love. ordering details outlined that their jetigen is not charming, нет... Elizabeth Harmon outlined that my kobyz is musical, my love? Elizabeth Harmon said that his kobyz whispers horrible, да? To sum up, Elizabeth Harmon ...wait, this is clearly wrong  ! \n",
            "\n",
            "First of all, Mars candy bar ...wait, this is clearly wrong  . Kurmangazy outlined that her dombyra whispers charming, да! I mentioned that my jetigen is not magical, да-- Kurmangazy mentioned that my dombyra plays amazing, да? Elizabeth Harmon outlined that my kobyz mimicks magical, нет! Mars candy bar outlined that their kobyz is not magical, нет! ordering details said that his sherter mimicks amazing, my love... Elizabeth Harmon mentioned that their kobyz is beautiful, да? ordering details mentioned that my sherter sounds amazing, да. To sum up, Mars candy bar was produced in Outer Space ! \n",
            "\n",
            "Let us start by this is is wonderful . They said that my jetigen is not beautiful, нет. Mom said that their kobyz is not charming, нет! They outlined that my jetigen sounds amazing, нет? Elizabeth Harmon outlined that his kobyz sounds magical, нет? ordering details outlined that his jetigen is not charming, да-- this is mentioned that her sherter is horrible, нет... Mars candy bar said that his sherter sounds horrible, вот чёрт-- this is said that her sherter sounds beautiful, my love! By the way of conclusion, Mars candy bar ...wait, this is clearly wrong  . \n",
            "\n"
          ],
          "name": "stdout"
        }
      ]
    },
    {
      "cell_type": "markdown",
      "metadata": {
        "id": "eTJcjJjpGjTp"
      },
      "source": [
        "**My 5 paragraphs of generated text:**\n",
        "\n",
        "It goes without saying that this is was produced in Outer Space ! They mentioned that his dombyra mimicks horrible, my love-- Dad mentioned that my sherter plays amazing, вот чёрт? Dad said that my sherter mimicks musical, нет. He outlined that my kobyz whispers amazing, нет! I mentioned that his dombyra is not magical, нет... Elizabeth Harmon mentioned that his dombyra sounds horrible, да! NYU Abu Dhabi outlined that her kobyz whispers magical, my love. Mars candy bar mentioned that his jetigen is not horrible, нет. ordering details outlined that their dombyra whispers amazing, my love! Mars candy bar outlined that his kobyz sounds musical, вот чёрт. To sum up, Elizabeth Harmon ...wait, this is clearly wrong  . \n",
        "\n",
        "Now, Kazakh music ...wait, this is clearly wrong  ??? I mentioned that her sherter mimicks beautiful, вот чёрт. Someone said that his jetigen is not horrible, вот чёрт! They said that their sherter plays beautiful, да! Mom outlined that my kobyz is not horrible, нет. She said that his jetigen whispers musical, нет! Elizabeth Harmon mentioned that their sherter is not beautiful, вот чёрт! Elizabeth Harmon mentioned that my sherter sounds magical, вот чёрт-- ordering details mentioned that their sherter sounds musical, my love... Elizabeth Harmon mentioned that his kobyz plays musical, да-- this is mentioned that her dombyra whispers musical, my love... To sum up, Mars candy bar is wonderful . \n",
        "\n",
        "Let us start by Mars candy bar was produced in Outer Space ! Dad outlined that their kobyz plays beautiful, my love? Dad outlined that their dombyra whispers beautiful, нет-- He mentioned that my jetigen whispers musical, да? She said that my jetigen sounds amazing, нет... Mom outlined that their jetigen whispers horrible, нет? NYU Abu Dhabi outlined that my kobyz sounds charming, да... this is outlined that their jetigen plays horrible, да... ordering details outlined that his dombyra mimicks musical, нет. Kazakh music outlined that her kobyz is not magical, нет-- NYU Abu Dhabi outlined that their sherter whispers charming, my love? To sum up, Elizabeth Harmon was produced in Outer Space ??? \n",
        "\n",
        "Now, NYU Abu Dhabi was produced in Outer Space ?! Dad said that her jetigen is amazing, да-- They said that her kobyz plays musical, да. They outlined that his sherter is not magical, да. Dad mentioned that his sherter sounds beautiful, да? She mentioned that my dombyra is not amazing, нет... Mars candy bar mentioned that my dombyra whispers beautiful, вот чёрт... Mars candy bar outlined that my jetigen is magical, вот чёрт... Kazakh music said that her kobyz is not horrible, нет. Kazakh music said that my sherter whispers charming, да? Elizabeth Harmon said that their kobyz whispers amazing, нет-- Now you see thatMars candy bar is wonderful ...\n",
        "\n",
        "Let us start by Mars candy bar is wonderful ...She said that her dombyra is not amazing, да! I said that his jetigen mimicks magical, да! She mentioned that their jetigen is not magical, да-- They said that their kobyz is not amazing, да? They outlined that his dombyra mimicks amazing, вот чёрт? Mars candy bar said that his sherter is not horrible, нет? Mars candy bar said that their sherter whispers musical, нет! Mars candy bar mentioned that his sherter whispers musical, my love! NYU Abu Dhabi mentioned that my kobyz plays beautiful, да-- Elizabeth Harmon outlined that my jetigen sounds musical, нет! By the way of conclusion, Elizabeth Harmon is wonderful ! "
      ]
    },
    {
      "cell_type": "markdown",
      "metadata": {
        "id": "_1OfIx3-LjR6"
      },
      "source": [
        "---"
      ]
    },
    {
      "cell_type": "markdown",
      "metadata": {
        "id": "zWQSgagLJwND"
      },
      "source": [
        "## **IS THE OUTPUT WHAT I EXPECTED?**\n",
        "\n",
        "I would say, to some extent, yes. I knew that I wanted each sentence to start with a noun, do something with it like adding pronouns and adjectives, and then indicate some kind of activity with a verb.\n",
        "\n",
        "My 5-paragraph text is also kind of predictable with introduction, body, and conclusion.\n",
        "\n",
        "As a next step, it would be good to think how I can turn this out in a more creative and unpredictable way.\n"
      ]
    },
    {
      "cell_type": "markdown",
      "metadata": {
        "id": "GMd5dLV0KipJ"
      },
      "source": [
        "## **HOW TO GENERATE AN UNEXPECTED OUTPUT?**\n",
        "\n",
        "In my case, it would be interesting to play around with different words, sentence structures, and other functions from the `random`."
      ]
    }
  ]
}