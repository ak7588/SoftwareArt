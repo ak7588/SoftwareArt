{
  "nbformat": 4,
  "nbformat_minor": 0,
  "metadata": {
    "colab": {
      "name": "Assignment1_SoftwareArt.ipynb",
      "provenance": [],
      "authorship_tag": "ABX9TyPEbTgygAqZy8BWJdnP6hxl",
      "include_colab_link": true
    },
    "kernelspec": {
      "name": "python3",
      "display_name": "Python 3"
    }
  },
  "cells": [
    {
      "cell_type": "markdown",
      "metadata": {
        "id": "view-in-github",
        "colab_type": "text"
      },
      "source": [
        "<a href=\"https://colab.research.google.com/github/ak7588/SoftwareArt/blob/main/Assignment1_SoftwareArt.ipynb\" target=\"_parent\"><img src=\"https://colab.research.google.com/assets/colab-badge.svg\" alt=\"Open In Colab\"/></a>"
      ]
    },
    {
      "cell_type": "markdown",
      "metadata": {
        "id": "Kwej6BcuVPUG"
      },
      "source": [
        "# Make History - Don't Trust What You Read Online 👀\n",
        "---"
      ]
    },
    {
      "cell_type": "markdown",
      "metadata": {
        "id": "BXVcrGHTVkE7"
      },
      "source": [
        "## What is it?\n",
        "\n",
        "My project is a **fake history** textbook generator that is presented on the web. \n",
        "\n",
        "Using three different Python algorithms, I have completed a rough timeline of the history of K*zakh-stan (real country names are excluded :D). The text output is a narrative that describes different events based on the real or generated events happening in random parts of the planet during the given time period.\n",
        "\n",
        "The concept behind this project is to demonstrate how (relatively) easy it is to generate fake history and news and present them online to the public. What I want to say with my work is that **we should not blindly trust what we read online** -- especially during the pandemic, when the rise of fake news is so high.\n",
        "\n",
        "## How it's made?\n",
        "\n",
        "The algorithms used for the text-generator are made (1) utilizing the `random` library, (2) HTML parsing of open-source websites with the `BeatifulSoup` and `requests` libraries, and (3) regular expression and string manipulation in Python. Here is the explanatin of each underlying algorithm: \n",
        "\n",
        "  (1). I have created multiple string lists and sentences. When I print the sentence, the program randomly chooses one of the strings from the lists to complete the text.\n",
        "\n",
        "  (2). I have used several websites with history books on the Gutenberg Project, song lyrics, and travel blogs to scrape the necessary information for the text output.\n",
        "\n",
        "  (3). After scraping some of the information from the web, I have used regular expression and string manipulation to modify the text and generate new output.\n",
        "\n",
        "## Why it's made?\n",
        "\n",
        "  One of the most noticeable traits is that the text output might look like a real history timeline to people unfamiliar with the country, and this is the effect I was trying to achieve. The website, however, serves to warn the reader that the information might be misleading, prompting the reader to stop and reflect.\n",
        "\n",
        "In the age when so many resources are available to us online, I believe it is a crucial step to be able to stop for a moment and critically analyze the information consumed.\n",
        "\n"
      ]
    },
    {
      "cell_type": "markdown",
      "metadata": {
        "id": "-rQAcmIzVm3L"
      },
      "source": [
        "---\n",
        "\n",
        "Source Code:"
      ]
    },
    {
      "cell_type": "code",
      "metadata": {
        "colab": {
          "base_uri": "https://localhost:8080/"
        },
        "id": "cyP84C046oJn",
        "outputId": "150e4c71-8303-42d4-a703-8d27a49117b7"
      },
      "source": [
        "# Text 1\n",
        "\n",
        "# Time period: 200 BC\n",
        "\n",
        "import random\n",
        "\n",
        "country_list = ['K*zakh-stan', 'K@z@kh-land', 'Qaz*qStepp*']\n",
        "country_description = ['big', 'empty', 'large', 'enourmous', 'abanoded']\n",
        "human_adjective = ['bold', 'crazy', 'creative', 'primitive']\n",
        "country_name = random.choice(country_list)\n",
        "group_name = ['Saka', 'Skythian', 'Massagetae']\n",
        "\n",
        "print(\"Once upon a time, a country named %s was born...\" % country_name)\n",
        "print(\"The land so %s, only the %s could explore.\" % (random.choice(country_description), random.choice(human_adjective)))\n",
        "print(\"Nevertheless, the %s people persisted.\" % random.choice(group_name))\n"
      ],
      "execution_count": 21,
      "outputs": [
        {
          "output_type": "stream",
          "text": [
            "Once upon a time, a country named K*zakh-stan was born...\n",
            "The land so enourmous, only the bold could explore.\n",
            "Nevertheless, the Massagetae people persisted.\n"
          ],
          "name": "stdout"
        }
      ]
    },
    {
      "cell_type": "code",
      "metadata": {
        "colab": {
          "base_uri": "https://localhost:8080/"
        },
        "id": "QHA5uectGMUQ",
        "outputId": "e3cf301a-b46c-4766-d6ca-80437d445f29"
      },
      "source": [
        "# Text 2 // HTML parsing and the soup 🍜\n",
        "\n",
        "# Time period: 400 BC\n",
        "\n",
        "import requests\n",
        "from bs4 import BeautifulSoup\n",
        "\n",
        "things = ['cuisine', 'medicine', 'rock tools', 'coronavirus']\n",
        "places = ['mountains', 'rocks', 'valleys', 'caves']\n",
        "\n",
        "target_url = 'https://lyricstranslate.com/en/taboo-taboo.html-4'\n",
        "req = requests.get(target_url)\n",
        "\n",
        "# Checking for opening errors\n",
        "\n",
        "if req.status_code != 200:\n",
        "    print(\"something went wrong, response code %i\" % req.status_code)\n",
        "\n",
        "# Parsing\n",
        "\n",
        "soup = BeautifulSoup(req.content, 'html.parser')\n",
        "# title = soup.find('title')\n",
        "lyrics = soup.find_all('div', class_ = 'par')\n",
        "line = lyrics[12].text\n",
        "\n",
        "print(\"Besides significant developments in %s, the following words were carved out on many %s:\" % (random.choice(things), random.choice(places)))\n",
        "print()\n",
        "for char in range(205):\n",
        "  print(line[char], end = '')\n",
        "\n",
        "\n",
        "\n"
      ],
      "execution_count": 19,
      "outputs": [
        {
          "output_type": "stream",
          "text": [
            "Besides significant developments in cuisine, the following words were carved out on many rocks:\n",
            "\n",
            "Orwell* would not be surprised to hear about our country\n",
            "Huxley* would silently agree with everything\n",
            "There is a fallen currency (tenge) in front of my eyes\n",
            "And tender(bid) dementors with thirsty dry lips\n"
          ],
          "name": "stdout"
        }
      ]
    },
    {
      "cell_type": "code",
      "metadata": {
        "colab": {
          "base_uri": "https://localhost:8080/"
        },
        "id": "_2R_iajmGP6I",
        "outputId": "4d9996b1-f22e-4685-a929-c2c0b1eaa894"
      },
      "source": [
        "# Text 3 // Web scraping from open-source .txt HTML pages\n",
        "\n",
        "# Time period: 1465 \n",
        "\n",
        "import requests\n",
        "\n",
        "target_url = 'https://www.gutenberg.org/files/35461/35461-0.txt'\n",
        "\n",
        "req = requests.get(target_url)\n",
        "\n",
        "if req.status_code == 200:\n",
        "    first_character = 420543\n",
        "    characters_to_print = 507\n",
        "    print(\"By this time, people had gained their own land in the middle of Eurasia.\", end = \"\")\n",
        "    print(req.text[first_character:first_character + characters_to_print])\n",
        "else:\n",
        "    print (\"something went wrong, response code %i\") % req.status_code"
      ],
      "execution_count": 24,
      "outputs": [
        {
          "output_type": "stream",
          "text": [
            "By this time, people had gained their own land in the middle of Eurasia.\n",
            "Frederick, and Gregory IX (1227) came to the papal throne evidently\r\n",
            "resolved to settle accounts with this young man at any cost.  He\r\n",
            "excommunicated him.  Frederick II was denied all the comforts of\r\n",
            "religion.  In the half-Arab Court of Sicily this produced singularly\r\n",
            "little discomfort.  And also the Pope addressed a public letter to the\r\n",
            "Emperor reciting his vices (which were indisputable), his heresies, and\r\n",
            "his general misconduct.  To this Frederick replied in a document of\r\n",
            "diabolical ability.  \n"
          ],
          "name": "stdout"
        }
      ]
    },
    {
      "cell_type": "code",
      "metadata": {
        "colab": {
          "base_uri": "https://localhost:8080/"
        },
        "id": "Q7FXf4tFil_X",
        "outputId": "d08d6dd4-c06f-4962-ed9d-3ad2c6e0a426"
      },
      "source": [
        "# Text 4 // Same algorithm as in Text 1\n",
        "\n",
        "# Time period: 1866\n",
        "\n",
        "import random\n",
        "\n",
        "emperor_name = ['Yuri-Ivan the III', 'Elizaveta the II', 'Anna Ionovna']\n",
        "war_state = ['Japanese Empire', 'Chinese Empire', 'Prussia', 'Austrian Empire']\n",
        "profit = ['water', 'oil', 'crops', 'animals', 'organs', 'marriages', 'land', 'debt']\n",
        "\n",
        "\n",
        "print(\"In the end of the nineteenth century, most of the land was under the %s's rule.\" % random.choice(emperor_name), end = \" \")\n",
        "print(\"It was also the time when the war with the %s had begun.\" % random.choice(war_state), end = \" \")\n",
        "print(\"The people of the nation have mainly profitted out of %s.\" % random.choice(profit))"
      ],
      "execution_count": 32,
      "outputs": [
        {
          "output_type": "stream",
          "text": [
            "In the end of the nineteenth century, most of the land was under the Elizaveta the II's rule. It was also the time when the war with the Chinese Empire had begun. The people of the nation have mainly profitted out of land\n"
          ],
          "name": "stdout"
        }
      ]
    },
    {
      "cell_type": "code",
      "metadata": {
        "colab": {
          "base_uri": "https://localhost:8080/"
        },
        "id": "LxuvZ2i7lIBi",
        "outputId": "200aedc6-5687-474c-fad6-bb55779d3cab"
      },
      "source": [
        "# Text 5 & 6 // Regular Expression + String manipulation\n",
        "\n",
        "# Time period: 1922\n",
        "\n",
        "import requests\n",
        "from bs4 import BeautifulSoup\n",
        "\n",
        "target_url = 'https://www.advantour.com/uzbekistan/history.htm#:~:text=Uzbekistan%20is%20located%20in%20the,most%20ancient%20in%20the%20world.'\n",
        "req = requests.get(target_url)\n",
        "\n",
        "# Checking for opening errors\n",
        "\n",
        "if req.status_code != 200:\n",
        "    print(\"something went wrong, response code %i\" % req.status_code)\n",
        "\n",
        "# Parsing\n",
        "\n",
        "soup = BeautifulSoup(req.content, 'html.parser')\n",
        "text = soup.find_all('p')\n",
        "\n",
        "line_1 = text[0].text\n",
        "line_2 = text[1].text\n",
        "\n",
        "line_1 = line.replace('Uzbekistan', 'K*zakh-stan')\n",
        "line_2 = line.replace('Uzbekistan', 'K*zakh-stan')\n",
        "\n",
        "print(\"At this time, \", end = \"\")\n",
        "print(line_1) # This is text 5\n",
        "print()\n",
        "print(line_2) # This is text 6\n"
      ],
      "execution_count": 51,
      "outputs": [
        {
          "output_type": "stream",
          "text": [
            "At this time, K*zakh-stan is located in the heart of Central Asia, between two large rivers Amu Darya and Syr Darya. History of nations, living on this territory, is more than thousand years. This land became the motherland of civilization, which is perhaps one of the most ancient in the world.History of K*zakh-stan is the history of individuals and great nations, bloody conquests and large rebellions; it is the history of origin of the most beautiful cities in Central Asia; it is the history of people, who wholeheartedly loved their homeland.\n",
            "\n",
            "K*zakh-stan is located in the heart of Central Asia, between two large rivers Amu Darya and Syr Darya. History of nations, living on this territory, is more than thousand years. This land became the motherland of civilization, which is perhaps one of the most ancient in the world.History of K*zakh-stan is the history of individuals and great nations, bloody conquests and large rebellions; it is the history of origin of the most beautiful cities in Central Asia; it is the history of people, who wholeheartedly loved their homeland.\n"
          ],
          "name": "stdout"
        }
      ]
    }
  ]
}